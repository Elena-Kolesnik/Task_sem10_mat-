{
  "nbformat": 4,
  "nbformat_minor": 0,
  "metadata": {
    "colab": {
      "provenance": []
    },
    "kernelspec": {
      "name": "python3",
      "display_name": "Python 3"
    },
    "language_info": {
      "name": "python"
    }
  },
  "cells": [
    {
      "cell_type": "markdown",
      "source": [
        "**Задача 1.** Провести дисперсионный анализ для определения того, есть ли различия среднего роста среди взрослых футболистов, хоккеистов и штангистов.\n",
        "\n",
        "Даны значения роста в трех группах случайно выбранных спортсменов: Футболисты: 173, 175, 180, 178, 177, 185, 183, 182. Хоккеисты: 177, 179, 180, 188, 177, 172, 171, 184, 180. Штангисты: 172, 173, 169, 177, 166, 180, 178, 177, 172, 166, 170."
      ],
      "metadata": {
        "id": "j5AfbS0HL_UI"
      }
    },
    {
      "cell_type": "code",
      "source": [
        "import scipy.stats as stats\n",
        "\n",
        "football = [173, 175, 180, 178, 177, 185, 183, 182]\n",
        "hockey = [177, 179, 180, 188, 177, 172, 171, 184, 180]\n",
        "weightlifting = [172, 173, 169, 177, 166, 180, 178, 177, 172, 166, 170]\n",
        "\n",
        "f_stat, p_value = stats.f_oneway(football, hockey, weightlifting)# Односторонний ANOVA\n",
        "\n",
        "\n",
        "print(p_value)"
      ],
      "metadata": {
        "colab": {
          "base_uri": "https://localhost:8080/"
        },
        "id": "vyC5iPsHMGgD",
        "outputId": "fe65629b-5ed8-453c-e85b-c3d80eb67581"
      },
      "execution_count": 3,
      "outputs": [
        {
          "output_type": "stream",
          "name": "stdout",
          "text": [
            "0.010482206918698694\n"
          ]
        }
      ]
    },
    {
      "cell_type": "markdown",
      "source": [
        "Различие в среднем росте спортсменов статистически значимо"
      ],
      "metadata": {
        "id": "WXmKTfu5MXqa"
      }
    },
    {
      "cell_type": "code",
      "source": [
        "import numpy as np\n",
        "import pandas as pd\n",
        "from statsmodels. stats.multicomp import pairwise_tukeyhsd\n",
        "\n",
        "df = pd.DataFrame({'height': [173, 175, 180, 178, 177, 185, 183, 182,\n",
        " 177, 179, 180, 188, 177, 172, 171, 184, 180,\n",
        " 172, 173, 169, 177, 166, 180, 178, 177, 172, 166, 170],\n",
        " 'group': np.repeat(['football', 'hockey', 'weightlifting'], repeats = (8,9,11))}) \n",
        "\n",
        "tukey = pairwise_tukeyhsd(endog=df['height'],\n",
        " groups=df['group'],\n",
        " alpha= 0.05 )\n",
        "\n",
        "print(tukey)"
      ],
      "metadata": {
        "colab": {
          "base_uri": "https://localhost:8080/"
        },
        "id": "kzsU7oDEMZY_",
        "outputId": "704dc660-0ae2-4080-c592-411caf665f40"
      },
      "execution_count": 5,
      "outputs": [
        {
          "output_type": "stream",
          "name": "stdout",
          "text": [
            "     Multiple Comparison of Means - Tukey HSD, FWER=0.05      \n",
            "==============================================================\n",
            " group1      group2    meandiff p-adj   lower    upper  reject\n",
            "--------------------------------------------------------------\n",
            "football        hockey  -0.4583    0.9  -6.2722  5.3555  False\n",
            "football weightlifting  -6.3977 0.0218 -11.9573 -0.8382   True\n",
            "  hockey weightlifting  -5.9394 0.0283 -11.3172 -0.5616   True\n",
            "--------------------------------------------------------------\n"
          ]
        }
      ]
    },
    {
      "cell_type": "markdown",
      "source": [
        "Статистически значимых различий в росте между:\n",
        "футболистами и хоккеистами - нет,\n",
        "футболистами и штангистами - есть,\n",
        "хоккеистами и штангистами - есть."
      ],
      "metadata": {
        "id": "hRNqf3mqQv41"
      }
    }
  ]
}